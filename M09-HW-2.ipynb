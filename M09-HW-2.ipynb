{
 "cells": [
  {
   "cell_type": "markdown",
   "id": "bbea800c-241d-42b4-a744-ecaffe13959e",
   "metadata": {},
   "source": [
    "# Metadata\n",
    "\n",
    "```yaml\n",
    "Course:  DS 5100\n",
    "Module:  09 Python Packages\n",
    "Topic:   HW Package Booklover\n",
    "Author:  R.C. Alvarado (adapted)\n",
    "Date:    2 July 2024 (revised)\n",
    "```"
   ]
  },
  {
   "cell_type": "markdown",
   "id": "36f46fdd-2405-4dc8-9ea1-33f395e56cc0",
   "metadata": {},
   "source": [
    "# Student Info\n",
    "\n",
    "* Name:  Varun Bhatnagar\n",
    "* Net UD: urz4rx\n",
    "* URL of this file in GitHub:https://github.com/vbprojects/MSDS-booklover/blob/main/M09-HW-2.ipynb"
   ]
  },
  {
   "cell_type": "markdown",
   "id": "375875a8-1503-46eb-8ea1-7e5bf39b5c41",
   "metadata": {},
   "source": [
    "# Instructions\n",
    "\n",
    "In your **private course repo on Rivanna**, use this Jupyter notebook and the data file described to write code that performs the tasks below. \n",
    "\n",
    "Save your notebook in the `M09` directory.\n",
    "\n",
    "Remember to add and commit these files to your repo. \n",
    "\n",
    "Then push your commits to your repo on GitHib.\n",
    "\n",
    "Be sure to fill out the **Student Info** block above.\n",
    "\n",
    "To submit your homework, save your results as a PDF and upload it to GradeScope. More information about how to create the PDF for this assignment are included at the end of this document.\n",
    "\n",
    "**TOTAL POINTS: 8**"
   ]
  },
  {
   "cell_type": "markdown",
   "id": "1baf08dc-35fe-44f1-bc26-7e1130ee993e",
   "metadata": {},
   "source": [
    "# Overview\n",
    "\n",
    "Follow the following recipe we used in class to package the code you wrote for `HW08` -- `booklover.py` and `booklover_test.py`.\n",
    "\n",
    "* Create a new git repo for your package.\n",
    "* Create and edit the required files and directories for your package and move the booklover modules there.\n",
    "  * <span style=\"color:green;font-weight:bold;\">Create a package directory called `booklover`.</span>\n",
    "  * <span style=\"color:green;font-weight:bold;\">Create a module called `booklover` inside the package directory.</span>\n",
    "  * <span style=\"color:green;font-weight:bold;\">Put the test file above the package directory, in the root of the project directory.</span>\n",
    "* Stage, commit, and push all the files you've created.\n",
    "* Install your package with pip.\n",
    "* Outside of your package dir, write a script to test your method.\n",
    "\n",
    "Put this notebook in your repo. This will allow you to execute bash commands and capture the outpunt directly in the notebook.\n",
    "\n",
    "**TOTAL: 8 POINTS**"
   ]
  },
  {
   "cell_type": "markdown",
   "id": "6e39ba79-49ee-41e8-9e49-23d9d6bac2e0",
   "metadata": {
    "tags": []
   },
   "source": [
    "# Tasks"
   ]
  },
  {
   "cell_type": "markdown",
   "id": "fb11de14",
   "metadata": {},
   "source": [
    "## Task 1\n",
    "\n",
    "(5 points)\n",
    "\n",
    "Show the directory structure of your repo by running this command from the root of your repo.\n",
    "\n",
    "<span style=\"color:green;font-weight:bold;\">Note: You may run this from the command line and cut-and-paste a screenshot of your results here.</span>"
   ]
  },
  {
   "cell_type": "code",
   "execution_count": 5,
   "id": "7e6c6607",
   "metadata": {},
   "outputs": [
    {
     "name": "stdout",
     "output_type": "stream",
     "text": [
      ".:\n",
      "total 26\n",
      "drwx--S--- 4 urz4rx users 4096 Mar 23 22:06 booklover\n",
      "drwx--S--- 2 urz4rx users 4096 Mar 23 22:12 booklover.egg-info\n",
      "-rw------- 1 urz4rx users 4033 Mar 23 22:09 booklover_test.py\n",
      "-rw------- 1 urz4rx users 1062 Mar 23 22:04 LICENSE\n",
      "-rw------- 1 urz4rx users 8442 Mar 23 22:12 M09-HW-2.ipynb\n",
      "-rw------- 1 urz4rx users  239 Mar 23 22:01 setup.py\n",
      "\n",
      "./booklover:\n",
      "total 9\n",
      "-rw------- 1 urz4rx users 5917 Mar 23 22:01 booklover.py\n",
      "-rw------- 1 urz4rx users    0 Mar 23 22:01 __init__.py\n",
      "drwx--S--- 2 urz4rx users 4096 Mar 23 22:09 __pycache__\n",
      "\n",
      "./booklover/__pycache__:\n",
      "total 1\n",
      "-rw------- 1 urz4rx users 3341 Mar 23 22:09 booklover.cpython-311.pyc\n",
      "-rw------- 1 urz4rx users  196 Mar 23 22:06 __init__.cpython-311.pyc\n",
      "\n",
      "./booklover.egg-info:\n",
      "total 2\n",
      "-rw------- 1 urz4rx users   1 Mar 23 22:12 dependency_links.txt\n",
      "-rw-r--r-- 1 urz4rx users 168 Mar 23 22:12 PKG-INFO\n",
      "-rw------- 1 urz4rx users 193 Mar 23 22:12 SOURCES.txt\n",
      "-rw------- 1 urz4rx users  10 Mar 23 22:12 top_level.txt\n"
     ]
    }
   ],
   "source": [
    "!ls -lR"
   ]
  },
  {
   "cell_type": "markdown",
   "id": "6b6f288b-05aa-441b-8c73-84b50b3b6844",
   "metadata": {},
   "source": [
    "## Task 2\n",
    "\n",
    "(1 point)\n",
    "\n",
    "Put the URL of your GitHub repo here. Just paste it into a Markdown cell."
   ]
  },
  {
   "cell_type": "markdown",
   "id": "4d09d889-6104-4f20-b31c-2d8a72b17693",
   "metadata": {},
   "source": [
    "URL: https://github.com/vbprojects/MSDS-booklover#"
   ]
  },
  {
   "cell_type": "markdown",
   "id": "f989dcd1-b1d2-4eb9-8ef6-8ca2d8495260",
   "metadata": {
    "lines_to_next_cell": 0
   },
   "source": [
    "## Task 3\n",
    "\n",
    "(1 point)\n",
    "\n",
    "Show the results of installing your package.\n",
    "\n",
    "```bash\n",
    "!pip install -e .\n",
    "```\n",
    "\n",
    "<span style=\"color:green;font-weight:bold;\">Note: You may run this from the command line and cut-and-paste a screenshot of your results here.</span>"
   ]
  },
  {
   "cell_type": "code",
   "execution_count": 6,
   "id": "8461223b-6e17-4bac-baa8-76e45b6d6027",
   "metadata": {
    "tags": []
   },
   "outputs": [
    {
     "name": "stdout",
     "output_type": "stream",
     "text": [
      "Defaulting to user installation because normal site-packages is not writeable\n",
      "Obtaining file:///sfs/gpfs/tardis/home/urz4rx/Documents/MSDS/DS5100/MSDS-booklover\n",
      "  Preparing metadata (setup.py) ... \u001b[?25ldone\n",
      "\u001b[?25hInstalling collected packages: booklover\n",
      "  Attempting uninstall: booklover\n",
      "    Found existing installation: booklover 1.0.0\n",
      "    Uninstalling booklover-1.0.0:\n",
      "      Successfully uninstalled booklover-1.0.0\n",
      "  Running setup.py develop for booklover\n",
      "Successfully installed booklover-1.0.0\n"
     ]
    }
   ],
   "source": [
    "!pip install -e ."
   ]
  },
  {
   "cell_type": "markdown",
   "id": "5b1a642e-74f0-43ff-97a3-9ddc7553978e",
   "metadata": {},
   "source": [
    "## Task 4\n",
    "\n",
    "(1 point)\n",
    "\n",
    "Create a file outside your repo to test your package by running it.\n",
    "\n",
    "To do this, import the package into your file and create a BookLover object.\n",
    "\n",
    "Then add a book and then print number books read.\n",
    "\n",
    "Then run the file. \n",
    "\n",
    "Show the output of running the file below, using a command like the following:\n",
    "\n",
    "```bash\n",
    "!python ../book_lover_demo.py\n",
    "```\n",
    "\n",
    "<span style=\"color:green;font-weight:bold;\">Note: You may run this from the command line and cut-and-paste a screenshot of your results here.</span>"
   ]
  },
  {
   "cell_type": "code",
   "execution_count": 7,
   "id": "5924fca8-6483-4f2b-a33f-6550d1726d6e",
   "metadata": {},
   "outputs": [
    {
     "name": "stdout",
     "output_type": "stream",
     "text": [
      "1\n"
     ]
    }
   ],
   "source": [
    "!python ../book_lover_demo.py"
   ]
  },
  {
   "cell_type": "code",
   "execution_count": null,
   "id": "f96fa488-fca4-4cfb-a972-c06ac61962f2",
   "metadata": {},
   "outputs": [],
   "source": []
  }
 ],
 "metadata": {
  "jupytext": {
   "cell_metadata_filter": "-all",
   "main_language": "bash",
   "notebook_metadata_filter": "-all"
  },
  "kernelspec": {
   "display_name": "Python 3 (ipykernel)",
   "language": "python",
   "name": "python3"
  },
  "language_info": {
   "codemirror_mode": {
    "name": "ipython",
    "version": 3
   },
   "file_extension": ".py",
   "mimetype": "text/x-python",
   "name": "python",
   "nbconvert_exporter": "python",
   "pygments_lexer": "ipython3",
   "version": "3.11.4"
  },
  "vscode": {
   "interpreter": {
    "hash": "c3b963de08c47c3b6758389c5e0978ad73698a111eb508d4e16b558edb8f4cbf"
   }
  },
  "widgets": {
   "application/vnd.jupyter.widget-state+json": {
    "state": {},
    "version_major": 2,
    "version_minor": 0
   }
  }
 },
 "nbformat": 4,
 "nbformat_minor": 5
}
